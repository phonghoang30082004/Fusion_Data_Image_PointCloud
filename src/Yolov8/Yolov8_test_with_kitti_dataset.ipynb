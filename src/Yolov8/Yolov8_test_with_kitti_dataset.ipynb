{
  "nbformat": 4,
  "nbformat_minor": 0,
  "metadata": {
    "colab": {
      "provenance": []
    },
    "kernelspec": {
      "name": "python3",
      "display_name": "Python 3"
    },
    "language_info": {
      "name": "python"
    }
  },
  "cells": [
    {
      "cell_type": "code",
      "execution_count": null,
      "metadata": {
        "id": "ArX2cacFf3vZ"
      },
      "outputs": [],
      "source": [
        "!pip install ultralytics -q"
      ]
    },
    {
      "cell_type": "markdown",
      "source": [
        "# **YOLOv8 Orig**"
      ],
      "metadata": {
        "id": "b68Iwf3QdTgU"
      }
    },
    {
      "cell_type": "code",
      "source": [
        "from ultralytics import YOLO\n",
        "from pathlib import Path\n",
        "import shutil\n"
      ],
      "metadata": {
        "id": "rTd3yu6v2fME"
      },
      "execution_count": null,
      "outputs": []
    },
    {
      "cell_type": "code",
      "source": [
        "# Cấu hình đường dẫn\n",
        "model = YOLO('yolov8n.pt')  # YOLOv8 nano pretrained trên COCO\n",
        "test_dir = Path('/content/drive/MyDrive/Khóa Luận/Data_Object/testing/image_2')\n",
        "out_dir  = Path('/content/drive/MyDrive/Khóa Luận/kitti_submit_yolov8_orig')\n",
        "out_dir.mkdir(parents=True, exist_ok=True)"
      ],
      "metadata": {
        "id": "QXDHwpMydWKU"
      },
      "execution_count": null,
      "outputs": []
    },
    {
      "cell_type": "code",
      "source": [
        "#  Mappings: COCO index → KITTI class name\n",
        "coco2kitti = {\n",
        "    2: 'Car',\n",
        "    0: 'Pedestrian',\n",
        "    1: 'Cyclist'\n",
        "}"
      ],
      "metadata": {
        "id": "nx6PQCMZ2uR7"
      },
      "execution_count": null,
      "outputs": []
    },
    {
      "cell_type": "code",
      "source": [
        "# Predict & ghi file .txt theo KITTI format\n",
        "for img_path in sorted(test_dir.glob('*.*')):\n",
        "    # predict single image\n",
        "    res = model.predict(source=str(img_path), save=False, verbose=False)[0]\n",
        "    boxes   = res.boxes.xyxy.cpu().numpy()        # [N,4]\n",
        "    classes = res.boxes.cls.cpu().numpy().astype(int)  # [N,]\n",
        "    confs   = res.boxes.conf.cpu().numpy()        # [N,]\n",
        "\n",
        "    txt_path = out_dir / f\"{img_path.stem}.txt\"\n",
        "    with open(txt_path, 'w') as f:\n",
        "        for (x1,y1,x2,y2), c, p in zip(boxes, classes, confs):\n",
        "            # Bỏ qua nếu không phải Car/Pedestrian/Cyclist\n",
        "            if c not in coco2kitti:\n",
        "                continue\n",
        "            cls_name = coco2kitti[c]\n",
        "            # KITTI submission format (16 trường):\n",
        "            line = (\n",
        "                f\"{cls_name} 0 0 0 \"\n",
        "                f\"{x1:.2f} {y1:.2f} {x2:.2f} {y2:.2f} \"\n",
        "                \"0 0 0 0 0 0 0 \"\n",
        "                f\"{p:.4f}\"\n",
        "            )\n",
        "            f.write(line + \"\\n\")\n",
        "\n",
        "print(f\"Đã ghi xong {len(list(out_dir.glob('*.txt')))} files vào {out_dir}\")"
      ],
      "metadata": {
        "id": "db0JEz_o2uUb"
      },
      "execution_count": null,
      "outputs": []
    },
    {
      "cell_type": "code",
      "source": [
        "# Nén thành ZIP để submit\n",
        "shutil.make_archive('kitti_predictions_yolov8_orig', 'zip', root_dir=str(out_dir))\n",
        "print(f\"File ZIP đã tạo: kitti_predictions_yolov8_orig.zip\")"
      ],
      "metadata": {
        "id": "aaCzVwUx2uWn"
      },
      "execution_count": null,
      "outputs": []
    }
  ]
}